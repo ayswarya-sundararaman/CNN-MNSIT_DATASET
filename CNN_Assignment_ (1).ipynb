{
  "nbformat": 4,
  "nbformat_minor": 0,
  "metadata": {
    "kernelspec": {
      "display_name": "Python 3",
      "language": "python",
      "name": "python3"
    },
    "language_info": {
      "codemirror_mode": {
        "name": "ipython",
        "version": 3
      },
      "file_extension": ".py",
      "mimetype": "text/x-python",
      "name": "python",
      "nbconvert_exporter": "python",
      "pygments_lexer": "ipython3",
      "version": "3.6.10"
    },
    "colab": {
      "name": "CNN_Assignment .ipynb",
      "provenance": []
    },
    "accelerator": "GPU"
  },
  "cells": [
    {
      "cell_type": "code",
      "metadata": {
        "id": "MTL7VHDAaKSd",
        "colab_type": "code",
        "colab": {}
      },
      "source": [
        "### Importing libraries\n",
        "import keras\n",
        "from keras.datasets import mnist\n",
        "from keras.layers import Dense,Dropout,Flatten,BatchNormalization\n",
        "from keras.models import Sequential\n",
        "from keras.layers import Conv2D,MaxPooling2D\n",
        "from keras import backend as K"
      ],
      "execution_count": 1,
      "outputs": []
    },
    {
      "cell_type": "code",
      "metadata": {
        "id": "hdDqarW_aKTH",
        "colab_type": "code",
        "colab": {
          "base_uri": "https://localhost:8080/",
          "height": 104
        },
        "outputId": "a601f0b1-b88f-4721-c194-9bdf8d45316e"
      },
      "source": [
        "## Loading dataset\n",
        "(x_train,y_train),(x_test,y_test) = mnist.load_data()\n",
        "\n",
        "## network parameters\n",
        "img_rows,img_cols = 28,28\n",
        "batch_size = 128\n",
        "n_epoch = 15\n",
        "classes = 10\n",
        "\n",
        "## \n",
        "if K.image_data_format() == 'channels_first':\n",
        "    x_train = x_train.reshape(x_train.shape[0], 1, img_rows, img_cols)\n",
        "    x_test = x_test.reshape(x_test.shape[0], 1, img_rows, img_cols)\n",
        "    input_shape = (1, img_rows, img_cols)\n",
        "else:\n",
        "    x_train = x_train.reshape(x_train.shape[0], img_rows, img_cols, 1)\n",
        "    x_test = x_test.reshape(x_test.shape[0], img_rows, img_cols, 1)\n",
        "    input_shape = (img_rows, img_cols, 1)\n",
        "\n",
        "##Converting x_train,x_test to float     \n",
        "x_train = x_train.astype('float32')\n",
        "x_test = x_test.astype('float32')\n",
        "\n",
        "## normalize it between 0-1 \n",
        "x_train /= 255\n",
        "x_test /= 255\n",
        "\n",
        "\n",
        "print('x_train shape:', x_train.shape)\n",
        "print(x_train.shape[0], 'train samples')\n",
        "print(x_test.shape[0], 'test samples')\n",
        "\n",
        "## one hot encode the target labels \n",
        "y_train = keras.utils.to_categorical(y_train,classes)\n",
        "y_test = keras.utils.to_categorical(y_test,classes)"
      ],
      "execution_count": 2,
      "outputs": [
        {
          "output_type": "stream",
          "text": [
            "Downloading data from https://storage.googleapis.com/tensorflow/tf-keras-datasets/mnist.npz\n",
            "11493376/11490434 [==============================] - 0s 0us/step\n",
            "x_train shape: (60000, 28, 28, 1)\n",
            "60000 train samples\n",
            "10000 test samples\n"
          ],
          "name": "stdout"
        }
      ]
    },
    {
      "cell_type": "markdown",
      "metadata": {
        "id": "RG_MIynyaKTQ",
        "colab_type": "text"
      },
      "source": [
        "### Model 1 :\n",
        "    Architecture \n",
        "    Kernels : 3x3,5x5,2x2\n",
        "    Number of convnet layers : 3 \n",
        "    Optimizer :Adam\n",
        "    Activation : Relu \n",
        "    Maxpooling layers : 3\n",
        "    Regularizations : Dropout,Batch Normalization after every two layers"
      ]
    },
    {
      "cell_type": "code",
      "metadata": {
        "id": "o_WYdSw1aKTR",
        "colab_type": "code",
        "colab": {
          "base_uri": "https://localhost:8080/",
          "height": 572
        },
        "outputId": "9f75962f-1ac9-4306-896d-361b205b27c7"
      },
      "source": [
        "model = Sequential()\n",
        "## create the architecture\n",
        "model.add(Conv2D(32,activation='relu', kernel_size=(3, 3),input_shape = input_shape))\n",
        "model.add(MaxPooling2D(pool_size=(2, 2),padding='same'))\n",
        "model.add(Conv2D(64, (5, 5), activation='relu',padding='same'))\n",
        "model.add(MaxPooling2D(pool_size=(2, 2),padding='same'))\n",
        "\n",
        "model.add(BatchNormalization())\n",
        "model.add(Dropout(0.35))\n",
        "\n",
        "model.add(Conv2D(128, (2, 2), activation='relu',padding='same'))\n",
        "model.add(MaxPooling2D(pool_size=(2, 2),padding='same'))\n",
        "\n",
        "model.add(BatchNormalization())\n",
        "model.add(Dropout(0.35))\n",
        "\n",
        "model.add(Flatten())\n",
        "model.add(Dense(256, activation='relu'))\n",
        "model.add(Dense(classes, activation='softmax'))\n",
        "\n",
        "## compile the model \n",
        "model.compile(loss=keras.losses.categorical_crossentropy,optimizer=keras.optimizers.Adam(),\n",
        "              metrics=['accuracy'])\n",
        "\n",
        "## train the model\n",
        "history = model.fit(x_train,y_train,batch_size=batch_size,\n",
        "          epochs=n_epoch,\n",
        "          verbose=1,\n",
        "          validation_data=(x_test, y_test))\n",
        "\n",
        "score = model.evaluate(x_test, y_test, verbose=0)\n",
        "print('Test loss:', score[0])\n",
        "print('Test accuracy:', score[1])"
      ],
      "execution_count": 3,
      "outputs": [
        {
          "output_type": "stream",
          "text": [
            "Epoch 1/15\n",
            "469/469 [==============================] - 3s 7ms/step - loss: 0.1953 - accuracy: 0.9401 - val_loss: 0.1523 - val_accuracy: 0.9509\n",
            "Epoch 2/15\n",
            "469/469 [==============================] - 3s 6ms/step - loss: 0.0637 - accuracy: 0.9801 - val_loss: 0.0351 - val_accuracy: 0.9887\n",
            "Epoch 3/15\n",
            "469/469 [==============================] - 3s 7ms/step - loss: 0.0456 - accuracy: 0.9853 - val_loss: 0.0242 - val_accuracy: 0.9928\n",
            "Epoch 4/15\n",
            "469/469 [==============================] - 3s 7ms/step - loss: 0.0376 - accuracy: 0.9881 - val_loss: 0.0326 - val_accuracy: 0.9895\n",
            "Epoch 5/15\n",
            "469/469 [==============================] - 3s 7ms/step - loss: 0.0322 - accuracy: 0.9898 - val_loss: 0.0269 - val_accuracy: 0.9916\n",
            "Epoch 6/15\n",
            "469/469 [==============================] - 3s 6ms/step - loss: 0.0290 - accuracy: 0.9909 - val_loss: 0.0320 - val_accuracy: 0.9897\n",
            "Epoch 7/15\n",
            "469/469 [==============================] - 3s 7ms/step - loss: 0.0269 - accuracy: 0.9918 - val_loss: 0.0309 - val_accuracy: 0.9914\n",
            "Epoch 8/15\n",
            "469/469 [==============================] - 3s 7ms/step - loss: 0.0235 - accuracy: 0.9923 - val_loss: 0.0233 - val_accuracy: 0.9928\n",
            "Epoch 9/15\n",
            "469/469 [==============================] - 3s 7ms/step - loss: 0.0208 - accuracy: 0.9935 - val_loss: 0.0211 - val_accuracy: 0.9931\n",
            "Epoch 10/15\n",
            "469/469 [==============================] - 3s 7ms/step - loss: 0.0196 - accuracy: 0.9939 - val_loss: 0.0365 - val_accuracy: 0.9890\n",
            "Epoch 11/15\n",
            "469/469 [==============================] - 3s 7ms/step - loss: 0.0201 - accuracy: 0.9934 - val_loss: 0.0250 - val_accuracy: 0.9921\n",
            "Epoch 12/15\n",
            "469/469 [==============================] - 3s 7ms/step - loss: 0.0189 - accuracy: 0.9938 - val_loss: 0.0379 - val_accuracy: 0.9910\n",
            "Epoch 13/15\n",
            "469/469 [==============================] - 3s 6ms/step - loss: 0.0156 - accuracy: 0.9950 - val_loss: 0.0414 - val_accuracy: 0.9896\n",
            "Epoch 14/15\n",
            "469/469 [==============================] - 3s 7ms/step - loss: 0.0159 - accuracy: 0.9951 - val_loss: 0.0286 - val_accuracy: 0.9927\n",
            "Epoch 15/15\n",
            "469/469 [==============================] - 3s 6ms/step - loss: 0.0158 - accuracy: 0.9949 - val_loss: 0.0267 - val_accuracy: 0.9927\n",
            "Test loss: 0.026714051142334938\n",
            "Test accuracy: 0.9926999807357788\n"
          ],
          "name": "stdout"
        }
      ]
    },
    {
      "cell_type": "code",
      "metadata": {
        "scrolled": true,
        "id": "iTKlBbhJaKTa",
        "colab_type": "code",
        "colab": {
          "base_uri": "https://localhost:8080/",
          "height": 279
        },
        "outputId": "6f193758-db1f-4c3f-aa32-217e446da85e"
      },
      "source": [
        "## Lets plot the accuracy \n",
        "import matplotlib.pyplot as plt\n",
        "def plot_dynamic(x,y,y_,ax):\n",
        "    ax.plot(x,y,label='Train_loss')\n",
        "    ax.plot(x,y_,label='Test_loss')\n",
        "    plt.legend()\n",
        "    plt.grid()\n",
        "    fig.canvas.draw()\n",
        "    \n",
        "x = list(range(n_epoch))\n",
        "\n",
        "fig,ax = plt.subplots(1,1)\n",
        "ax.set_xlabel('epoch') ; ax.set_ylabel('Categorical Crossentropy Loss')\n",
        "vy = history.history['loss']\n",
        "ty = history.history['val_loss']\n",
        "plot_dynamic(x, vy, ty, ax)   "
      ],
      "execution_count": 4,
      "outputs": [
        {
          "output_type": "display_data",
          "data": {
            "image/png": "[encoded data removed]",
            "text/plain": [
              "<Figure size 432x288 with 1 Axes>"
            ]
          },
          "metadata": {
            "tags": [],
            "needs_background": "light"
          }
        }
      ]
    },
    {
      "cell_type": "markdown",
      "metadata": {
        "id": "5tjqQ3TfaKTe",
        "colab_type": "text"
      },
      "source": [
        "### Model 2 :\n",
        "    Architecture \n",
        "    Kernels : 3x3,5x5,2x2\n",
        "    Number of convnet layers : 5 \n",
        "    Optimizer :Adam\n",
        "    Activation : Relu \n",
        "    Maxpooling layers : 5\n",
        "    Regularizations : Dropout,Batch Normalization"
      ]
    },
    {
      "cell_type": "code",
      "metadata": {
        "id": "OL-FMJm4aKTe",
        "colab_type": "code",
        "colab": {
          "base_uri": "https://localhost:8080/",
          "height": 572
        },
        "outputId": "713f57a0-13c8-46f5-ee1d-cd4a0295539f"
      },
      "source": [
        "# from keras import backend as K\n",
        "# K.common.set_image_dim_ordering('tf')\n",
        "\n",
        "model = Sequential()\n",
        "## create the architecture\n",
        "model.add(Conv2D(16,activation='relu', kernel_size=(3, 3),input_shape = input_shape,padding='same'))\n",
        "model.add(MaxPooling2D(pool_size=(2, 2),padding='same'))\n",
        "model.add(Conv2D(32, (5, 5), activation='relu',padding='same'))\n",
        "model.add(MaxPooling2D(pool_size=(2, 2),padding='same'))\n",
        "\n",
        "\n",
        "model.add(BatchNormalization())\n",
        "model.add(Dropout(0.35))\n",
        "\n",
        "\n",
        "model.add(Conv2D(64, (2, 2), activation='relu',padding='same'))\n",
        "model.add(MaxPooling2D(pool_size=(2, 2),padding='same'))\n",
        "model.add(Conv2D(128,(3, 3),activation='relu',padding='same'))\n",
        "model.add(MaxPooling2D(pool_size=(2, 2),padding='same'))\n",
        "\n",
        "model.add(BatchNormalization())\n",
        "model.add(Dropout(0.35))\n",
        "\n",
        "model.add(Conv2D(256, (5, 5), activation='relu',padding='same'))\n",
        "model.add(MaxPooling2D(pool_size=(2, 2),padding='same'))\n",
        "\n",
        "model.add(Flatten())\n",
        "model.add(Dense(512, activation='relu'))\n",
        "\n",
        "model.add(BatchNormalization())\n",
        "model.add(Dropout(0.35))\n",
        "\n",
        "model.add(Dense(classes, activation='softmax'))\n",
        "\n",
        "## compile the model \n",
        "model.compile(loss=keras.losses.categorical_crossentropy,optimizer=keras.optimizers.Adam(),\n",
        "              metrics=['accuracy'])\n",
        "\n",
        "## train the model\n",
        "history = model.fit(x_train,y_train,batch_size=batch_size,\\\n",
        "          epochs=n_epoch,\\\n",
        "          verbose=1,\\\n",
        "          validation_data=(x_test, y_test))\n",
        "\n",
        "score = model.evaluate(x_test, y_test, verbose=0)\n",
        "print('Test loss:', score[0])\n",
        "print('Test accuracy:', score[1])"
      ],
      "execution_count": 5,
      "outputs": [
        {
          "output_type": "stream",
          "text": [
            "Epoch 1/15\n",
            "469/469 [==============================] - 4s 9ms/step - loss: 0.2421 - accuracy: 0.9243 - val_loss: 0.4402 - val_accuracy: 0.8528\n",
            "Epoch 2/15\n",
            "469/469 [==============================] - 4s 8ms/step - loss: 0.0852 - accuracy: 0.9725 - val_loss: 0.0407 - val_accuracy: 0.9857\n",
            "Epoch 3/15\n",
            "469/469 [==============================] - 4s 8ms/step - loss: 0.0625 - accuracy: 0.9798 - val_loss: 0.0366 - val_accuracy: 0.9892\n",
            "Epoch 4/15\n",
            "469/469 [==============================] - 4s 8ms/step - loss: 0.0532 - accuracy: 0.9833 - val_loss: 0.0450 - val_accuracy: 0.9856\n",
            "Epoch 5/15\n",
            "469/469 [==============================] - 4s 8ms/step - loss: 0.0446 - accuracy: 0.9860 - val_loss: 0.0344 - val_accuracy: 0.9897\n",
            "Epoch 6/15\n",
            "469/469 [==============================] - 4s 8ms/step - loss: 0.0435 - accuracy: 0.9863 - val_loss: 0.0361 - val_accuracy: 0.9890\n",
            "Epoch 7/15\n",
            "469/469 [==============================] - 4s 8ms/step - loss: 0.0375 - accuracy: 0.9881 - val_loss: 0.0333 - val_accuracy: 0.9902\n",
            "Epoch 8/15\n",
            "469/469 [==============================] - 4s 8ms/step - loss: 0.0355 - accuracy: 0.9887 - val_loss: 0.0280 - val_accuracy: 0.9919\n",
            "Epoch 9/15\n",
            "469/469 [==============================] - 4s 8ms/step - loss: 0.0327 - accuracy: 0.9896 - val_loss: 0.0319 - val_accuracy: 0.9916\n",
            "Epoch 10/15\n",
            "469/469 [==============================] - 4s 8ms/step - loss: 0.0307 - accuracy: 0.9904 - val_loss: 0.0356 - val_accuracy: 0.9889\n",
            "Epoch 11/15\n",
            "469/469 [==============================] - 4s 8ms/step - loss: 0.0296 - accuracy: 0.9905 - val_loss: 0.0331 - val_accuracy: 0.9910\n",
            "Epoch 12/15\n",
            "469/469 [==============================] - 4s 8ms/step - loss: 0.0287 - accuracy: 0.9908 - val_loss: 0.0231 - val_accuracy: 0.9938\n",
            "Epoch 13/15\n",
            "469/469 [==============================] - 4s 8ms/step - loss: 0.0266 - accuracy: 0.9913 - val_loss: 0.0266 - val_accuracy: 0.9921\n",
            "Epoch 14/15\n",
            "469/469 [==============================] - 4s 8ms/step - loss: 0.0265 - accuracy: 0.9913 - val_loss: 0.0326 - val_accuracy: 0.9902\n",
            "Epoch 15/15\n",
            "469/469 [==============================] - 4s 8ms/step - loss: 0.0244 - accuracy: 0.9923 - val_loss: 0.0232 - val_accuracy: 0.9930\n",
            "Test loss: 0.02315954491496086\n",
            "Test accuracy: 0.9929999709129333\n"
          ],
          "name": "stdout"
        }
      ]
    },
    {
      "cell_type": "code",
      "metadata": {
        "id": "s4Q84uZpaKTi",
        "colab_type": "code",
        "colab": {
          "base_uri": "https://localhost:8080/",
          "height": 279
        },
        "outputId": "8e330d53-39f4-46ed-b53f-69dd29920e79"
      },
      "source": [
        "x = list(range(n_epoch))\n",
        "fig,ax = plt.subplots(1,1)\n",
        "ax.set_xlabel('epoch') ; ax.set_ylabel('Categorical Crossentropy Loss')\n",
        "vy = history.history['loss']\n",
        "ty = history.history['val_loss']\n",
        "plot_dynamic(x, vy, ty, ax)   "
      ],
      "execution_count": 6,
      "outputs": [
        {
          "output_type": "display_data",
          "data": {
            "image/png": "[encoded data removed]",
            "text/plain": [
              "<Figure size 432x288 with 1 Axes>"
            ]
          },
          "metadata": {
            "tags": [],
            "needs_background": "light"
          }
        }
      ]
    },
    {
      "cell_type": "markdown",
      "metadata": {
        "id": "ybmy1f7KaKTl",
        "colab_type": "text"
      },
      "source": [
        "### Model 3 :\n",
        "    Architecture \n",
        "    Kernels : 3x3,5x5,2x2,7x7\n",
        "    Number of convnet layers : 7 \n",
        "    Optimizer :Adam\n",
        "    Activation : Relu \n",
        "    Maxpooling layers : 7\n",
        "    Regularizations : Dropout,Batch Normalization after every two layers"
      ]
    },
    {
      "cell_type": "code",
      "metadata": {
        "id": "zbwoBizeaKTm",
        "colab_type": "code",
        "colab": {
          "base_uri": "https://localhost:8080/",
          "height": 572
        },
        "outputId": "a981360d-6d90-423b-fb53-92a411b16f53"
      },
      "source": [
        "model = Sequential()\n",
        "## create the architecture\n",
        "model.add(Conv2D(16,activation='relu', kernel_size=(3, 3),input_shape = input_shape))\n",
        "model.add(MaxPooling2D(pool_size=(2, 2)))\n",
        "model.add(Conv2D(32, (5, 5), activation='relu',padding='same'))\n",
        "model.add(MaxPooling2D(pool_size=(2, 2),padding='same'))\n",
        "\n",
        "model.add(BatchNormalization())\n",
        "model.add(Dropout(0.35))\n",
        "\n",
        "model.add(Conv2D(64, (2, 2), activation='relu',padding='same'))\n",
        "model.add(MaxPooling2D(pool_size=(2, 2)))\n",
        "model.add(Conv2D(128,activation='relu', kernel_size=(3, 3),padding='same'))\n",
        "model.add(MaxPooling2D(pool_size=(2, 2),padding='same'))\n",
        "\n",
        "model.add(BatchNormalization())\n",
        "model.add(Dropout(0.35))\n",
        "\n",
        "model.add(Conv2D(256, (5, 5), activation='relu',padding='same'))\n",
        "model.add(MaxPooling2D(pool_size=(2, 2),padding='same'))\n",
        "model.add(Conv2D(384, (7, 7), activation='relu',padding='same'))\n",
        "model.add(MaxPooling2D(pool_size=(2, 2),padding='same'))\n",
        "\n",
        "model.add(BatchNormalization())\n",
        "model.add(Dropout(0.35))\n",
        "\n",
        "model.add(Conv2D(474, (5,5), activation='relu',padding='same'))\n",
        "model.add(MaxPooling2D(pool_size=(2, 2),padding='same'))\n",
        "\n",
        "model.add(Flatten())\n",
        "model.add(Dense(512, activation='relu'))\n",
        "\n",
        "model.add(BatchNormalization())\n",
        "model.add(Dropout(0.35))\n",
        "model.add(Dense(classes, activation='softmax'))\n",
        "\n",
        "## compile the model \n",
        "model.compile(loss=keras.losses.categorical_crossentropy,optimizer=keras.optimizers.Adam(),\n",
        "              metrics=['accuracy'])\n",
        "\n",
        "## train the model\n",
        "history = model.fit(x_train,y_train,batch_size=batch_size,\n",
        "          epochs=n_epoch,\n",
        "          verbose=1,\n",
        "          validation_data=(x_test, y_test))\n",
        "\n",
        "score = model.evaluate(x_test, y_test, verbose=0)\n",
        "print('Test loss:', score[0])\n",
        "print('Test accuracy:', score[1])"
      ],
      "execution_count": 7,
      "outputs": [
        {
          "output_type": "stream",
          "text": [
            "Epoch 1/15\n",
            "469/469 [==============================] - 10s 21ms/step - loss: 0.2895 - accuracy: 0.9096 - val_loss: 2.0209 - val_accuracy: 0.5539\n",
            "Epoch 2/15\n",
            "469/469 [==============================] - 9s 20ms/step - loss: 0.1095 - accuracy: 0.9672 - val_loss: 0.0518 - val_accuracy: 0.9841\n",
            "Epoch 3/15\n",
            "469/469 [==============================] - 9s 20ms/step - loss: 0.0797 - accuracy: 0.9761 - val_loss: 0.0550 - val_accuracy: 0.9844\n",
            "Epoch 4/15\n",
            "469/469 [==============================] - 9s 20ms/step - loss: 0.0665 - accuracy: 0.9797 - val_loss: 0.0477 - val_accuracy: 0.9858\n",
            "Epoch 5/15\n",
            "469/469 [==============================] - 9s 20ms/step - loss: 0.0611 - accuracy: 0.9820 - val_loss: 0.0362 - val_accuracy: 0.9887\n",
            "Epoch 6/15\n",
            "469/469 [==============================] - 9s 20ms/step - loss: 0.0517 - accuracy: 0.9844 - val_loss: 0.0517 - val_accuracy: 0.9856\n",
            "Epoch 7/15\n",
            "469/469 [==============================] - 10s 21ms/step - loss: 0.0454 - accuracy: 0.9869 - val_loss: 0.0388 - val_accuracy: 0.9892\n",
            "Epoch 8/15\n",
            "469/469 [==============================] - 9s 20ms/step - loss: 0.0454 - accuracy: 0.9864 - val_loss: 0.0265 - val_accuracy: 0.9920\n",
            "Epoch 9/15\n",
            "469/469 [==============================] - 9s 20ms/step - loss: 0.0422 - accuracy: 0.9875 - val_loss: 0.0300 - val_accuracy: 0.9910\n",
            "Epoch 10/15\n",
            "469/469 [==============================] - 9s 20ms/step - loss: 0.0395 - accuracy: 0.9880 - val_loss: 0.0307 - val_accuracy: 0.9903\n",
            "Epoch 11/15\n",
            "469/469 [==============================] - 9s 20ms/step - loss: 0.0385 - accuracy: 0.9884 - val_loss: 0.0377 - val_accuracy: 0.9901\n",
            "Epoch 12/15\n",
            "469/469 [==============================] - 9s 20ms/step - loss: 0.0356 - accuracy: 0.9894 - val_loss: 0.0360 - val_accuracy: 0.9904\n",
            "Epoch 13/15\n",
            "469/469 [==============================] - 9s 20ms/step - loss: 0.0324 - accuracy: 0.9902 - val_loss: 0.0285 - val_accuracy: 0.9915\n",
            "Epoch 14/15\n",
            "469/469 [==============================] - 9s 20ms/step - loss: 0.0317 - accuracy: 0.9901 - val_loss: 0.0261 - val_accuracy: 0.9922\n",
            "Epoch 15/15\n",
            "469/469 [==============================] - 9s 20ms/step - loss: 0.0306 - accuracy: 0.9911 - val_loss: 0.0248 - val_accuracy: 0.9921\n",
            "Test loss: 0.024801477789878845\n",
            "Test accuracy: 0.9921000003814697\n"
          ],
          "name": "stdout"
        }
      ]
    },
    {
      "cell_type": "code",
      "metadata": {
        "id": "pgiai26laKTq",
        "colab_type": "code",
        "colab": {
          "base_uri": "https://localhost:8080/",
          "height": 279
        },
        "outputId": "b5d84bd0-337c-41ed-91d1-a8d28b9a94de"
      },
      "source": [
        "x = list(range(n_epoch))\n",
        "fig,ax = plt.subplots(1,1)\n",
        "ax.set_xlabel('epoch')  \n",
        "ax.set_ylabel('Categorical Crossentropy Loss')\n",
        "vy = history.history['loss']\n",
        "ty = history.history['val_loss']\n",
        "plot_dynamic(x, vy, ty, ax)"
      ],
      "execution_count": 8,
      "outputs": [
        {
          "output_type": "display_data",
          "data": {
            "image/png": "[encoded data removed]",
            "text/plain": [
              "<Figure size 432x288 with 1 Axes>"
            ]
          },
          "metadata": {
            "tags": [],
            "needs_background": "light"
          }
        }
      ]
    },
    {
      "cell_type": "markdown",
      "metadata": {
        "id": "B_atL7s8aKTs",
        "colab_type": "text"
      },
      "source": [
        "## Observations:\n",
        "    * As the number of convolution layer increases accuracy increases and loss reduces \n",
        "    * As the number of convolution layers increases loss is reduces sharply at very early epochs.\n",
        "    * Dropout and Batch normalization acts as regulaizers and avoids overfitting"
      ]
    }
  ]
}